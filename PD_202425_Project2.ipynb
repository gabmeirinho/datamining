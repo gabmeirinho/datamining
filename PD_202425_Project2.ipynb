{
 "cells": [
  {
   "cell_type": "markdown",
   "metadata": {},
   "source": [
    "# Data Mining / Prospecção de Dados\n",
    "\n",
    "## Sara C. Madeira, 2024/2025\n",
    "\n",
    "# Project 2 - Classification in Temporal Data using Sequential Pattern Mining"
   ]
  },
  {
   "cell_type": "markdown",
   "metadata": {
    "jp-MarkdownHeadingCollapsed": true
   },
   "source": [
    "## Logistics \n",
    "**_Read Carefully_**\n",
    "\n",
    "**Students should work in teams of 3 people**. \n",
    "\n",
    "Groups with less than 3 people might be allowed (with valid justification), but will not have better grades for this reason. \n",
    "\n",
    "The quality of the project will dictate its grade, not the number of people working.\n",
    "\n",
    "**The project's solution should be uploaded in Moodle before the end of `June, 8th (23:59)`.** \n",
    "\n",
    "Students should **upload a `.zip` file** containing a folder with all the files necessary for project evaluation. \n",
    "Groups should be registered in [Moodle](https://moodle.ciencias.ulisboa.pt/mod/groupselect/view.php?id=139096) and the `zip` file should be identified as `PDnn.zip` where `nn` is the number of your group.\n",
    "\n",
    "**It is mandatory to produce a Jupyter notebook containing code and text/images/tables/etc describing the solution and the results. Projects not delivered in this format will not be graded. You can use `PD_202425_P2.ipynb` as template. In your `.zip` folder you should also include an HTML version of your notebook with all the outputs.**\n",
    "\n",
    "**Decisions should be justified and results should be critically discussed.** \n",
    "\n",
    "Remember that **your notebook should be as clear and organized as possible**, that is, **only the relevant code and experiments should be presented, not everything you tried and did not work, or is not relevant** (that can be discussed in the text, if relevant)! Tables and figures can be used together with text to summarize results and conclusions, improving understanding, readability and concision. **More does not mean better! The target is quality not quantity!**\n",
    "\n",
    "_**Project solutions containing only code and outputs without discussions will achieve a maximum grade of 10 out of 20.**_"
   ]
  },
  {
   "cell_type": "markdown",
   "metadata": {},
   "source": [
    "## Dataset and Tools\n",
    "\n",
    "Amyotrophic Lateral Sclerosis (ALS) is a devastating neurodegenerative disease causing rapid degeneration of motor neurons and usually leading to death by respiratory failure. Since there is no cure, treatment’s goal is to improve symptoms and prolong survival. Non-invasive Ventilation (NIV) has been shown to extend life expectancy and improve quality of life, thus it is key to effectively predict if ALS patients will be eligible for NIV in the near future based on disease progression. In this context, Martins et al. (2021) proposed to learn prognostic models using disesase progression patterns (https://ieeexplore.ieee.org/document/9426397), and formulated the following prognostic prediction problem (schematized in Figure below): given a specific ALS patient static data collected at diagnosis and temporal data from disease follow-up, can we effectively use these clinical evaluations to predict if this patient will require NIV within k days of last evaluation?\n",
    "\n",
    "<img src=\"prognostic_problem.png\" alt=\"Prognostic Prediction\" style=\"width: 500px;\"/>\n",
    "\n",
    "In this project, we will perform a reduced part of the work published by Martins et al. to learn a machine learning model (classifier) able to predict the need for NIV in a time window of 180 days given static and temporal data and sequential patterns as features.\n",
    "\n",
    "The dataset to be analysed was obtained from the Lisbon ALS database, containing clinical data from ALS patients collected during their follow-up at the hospital. To reduce the preprocessing steps relatively to what was done in the paper and should be done in the real scenario the following **preprocessed datasets** are already provided:\n",
    "\n",
    "1. `Dataset_Static_Features.csv` - each row is a patient with a REF id described by a set of features collected at diagnosis time. These features are called static since their are not collected over time. Duplicated patients should be deleted.\n",
    "\n",
    "<img src=\"static_example.png\" alt=\"Temporal Data\" style=\"width: 1000px;\"/>\n",
    "\n",
    "2. `Dataset_Temporal_Features.csv` - each patient has a set of rows (snapshots), each corresponding to a visit at the hospital and the values collected for a set of temporal features collected over time. The rows per patient REF are sorted in chonologic order, such that the first row and the last row of a REF correspond, respectively to the data collected in the first and last visit at the hospital. In the example below, the patient REF=9 has temporal data describing 5 clinical evaluations (time-points).\n",
    "\n",
    "<img src=\"temporal_example.png\" alt=\"Temporal Data\" style=\"width: 500px;\"/>\n",
    "\n",
    "3. `Dataset_NIV_Evolution_180.cvs`- each patient has a set of rows with the true value of NIV (yes or no) 180 days in the future. These are the class labels to be later used to train the classifier. Patient REF=9 does not evolve to need NIV 180 after time-points 1 to 4 but evolves to NIV 180 after time-point 5.\n",
    "\n",
    "<img src=\"NIV_evolution_example.png\" alt=\"Temporal Data\" style=\"width: 100px;\"/>\n",
    "\n",
    "In this context, the project has **2 main tasks**:\n",
    "1. Learn disease progression patterns from the temporal data using temporal pattern mining\n",
    "2. Learn a classifier to predict NIV using temporal patterns as features together with the static features"
   ]
  },
  {
   "cell_type": "markdown",
   "metadata": {},
   "source": [
    "\n",
    "**In this project you should use [Python 3](https://www.python.org), [Jupyter Notebook](http://jupyter.org), [`SPMF`](https://www.philippe-fournier-viger.com/software.php) for temporal pattern mining, and [`Scikit-learn`](https://scikit-learn.org/stable/) for classification.**\n"
   ]
  },
  {
   "cell_type": "markdown",
   "metadata": {},
   "source": [
    "## Team Identification\n",
    "\n",
    "**GROUP NN**\n",
    "\n",
    "Students:\n",
    "\n",
    "* Student 1 - n_student1\n",
    "* Student 2 - n_student2\n",
    "* Student 3 - n_student3"
   ]
  },
  {
   "cell_type": "markdown",
   "metadata": {},
   "source": [
    "## 1. Learn disease progression patterns from the temporal data using temporal pattern mining\n",
    "\n",
    "In this first task you should load and preprocessed the dataset **`Dataset_Temporal_Features.csv`** in order to compute sequential patterns for each patient. \n",
    "\n",
    "For that, you first need to load and preprocess this dataset and then transform the temporal data into a **sequence database**.\n",
    "\n",
    "You should consider **a minimum of 2 time-points** and a **maximum of 5 time-points** per patient.\n",
    "\n",
    "The sequential pattern mining algorithm `Fourier08` (https://www.philippe-fournier-viger.com/spmf/ClosedSequentialPatterns_TimeConstraints.php), an extension of `PrefixSpan` able to **deal with time** and compute **close patterns**, should be used."
   ]
  },
  {
   "cell_type": "markdown",
   "metadata": {},
   "source": [
    "### 1.1. Load and Preprocess Dataset\n",
    "\n",
    "- Remove all patients (REFs) with missing values in the temporal features.\n",
    "- Remove all patients with less than 2 time-points.\n",
    "- For the patients with more than 5 time-points, keep only the first 5.\n",
    "- In order to reduce the number of patterns to be generated agregate the values of the temporal features using the following intervals (4 intervals for each feature as in Martins et al): \n",
    "  1) Intervals for `ALSFRSb, ALSFRSsUL, ALSFRSsT, ALSFRSsLL, and R: <4 [4,8[ [8,12[ 12`;\n",
    "  2) Intervals for `ALSFRS-R: <12  [12,24[  [24,36[  >=36`"
   ]
  },
  {
   "cell_type": "code",
   "execution_count": 85,
   "metadata": {},
   "outputs": [],
   "source": [
    "# Write code in cells like this\n",
    "# ....\n",
    "import pandas as pd\n",
    "import os\n",
    "from spmf import Spmf"
   ]
  },
  {
   "cell_type": "code",
   "execution_count": 86,
   "metadata": {},
   "outputs": [],
   "source": [
    "temporal_df = pd.read_csv('Dataset_Temporal_Features.csv', delimiter=';')"
   ]
  },
  {
   "cell_type": "code",
   "execution_count": 87,
   "metadata": {},
   "outputs": [
    {
     "data": {
      "text/html": [
       "<div>\n",
       "<style scoped>\n",
       "    .dataframe tbody tr th:only-of-type {\n",
       "        vertical-align: middle;\n",
       "    }\n",
       "\n",
       "    .dataframe tbody tr th {\n",
       "        vertical-align: top;\n",
       "    }\n",
       "\n",
       "    .dataframe thead th {\n",
       "        text-align: right;\n",
       "    }\n",
       "</style>\n",
       "<table border=\"1\" class=\"dataframe\">\n",
       "  <thead>\n",
       "    <tr style=\"text-align: right;\">\n",
       "      <th></th>\n",
       "      <th>REF</th>\n",
       "      <th>ALSFRSb</th>\n",
       "      <th>ALSFRSsUL</th>\n",
       "      <th>ALSFRSsT</th>\n",
       "      <th>ALSFRSsLL</th>\n",
       "      <th>R</th>\n",
       "      <th>ALSFRS-R</th>\n",
       "    </tr>\n",
       "  </thead>\n",
       "  <tbody>\n",
       "    <tr>\n",
       "      <th>0</th>\n",
       "      <td>2</td>\n",
       "      <td>12.0</td>\n",
       "      <td>8.0</td>\n",
       "      <td>6.0</td>\n",
       "      <td>4.0</td>\n",
       "      <td>12.0</td>\n",
       "      <td>42.0</td>\n",
       "    </tr>\n",
       "    <tr>\n",
       "      <th>1</th>\n",
       "      <td>2</td>\n",
       "      <td>12.0</td>\n",
       "      <td>8.0</td>\n",
       "      <td>6.0</td>\n",
       "      <td>4.0</td>\n",
       "      <td>12.0</td>\n",
       "      <td>42.0</td>\n",
       "    </tr>\n",
       "    <tr>\n",
       "      <th>2</th>\n",
       "      <td>2</td>\n",
       "      <td>12.0</td>\n",
       "      <td>8.0</td>\n",
       "      <td>6.0</td>\n",
       "      <td>3.0</td>\n",
       "      <td>12.0</td>\n",
       "      <td>41.0</td>\n",
       "    </tr>\n",
       "  </tbody>\n",
       "</table>\n",
       "</div>"
      ],
      "text/plain": [
       "   REF  ALSFRSb  ALSFRSsUL  ALSFRSsT  ALSFRSsLL     R  ALSFRS-R\n",
       "0    2     12.0        8.0       6.0        4.0  12.0      42.0\n",
       "1    2     12.0        8.0       6.0        4.0  12.0      42.0\n",
       "2    2     12.0        8.0       6.0        3.0  12.0      41.0"
      ]
     },
     "execution_count": 87,
     "metadata": {},
     "output_type": "execute_result"
    }
   ],
   "source": [
    "temporal_df.head(3)"
   ]
  },
  {
   "cell_type": "code",
   "execution_count": 88,
   "metadata": {},
   "outputs": [
    {
     "name": "stdout",
     "output_type": "stream",
     "text": [
      "Number of nulls per column\n",
      "REF            0\n",
      "ALSFRSb      318\n",
      "ALSFRSsUL    329\n",
      "ALSFRSsT     329\n",
      "ALSFRSsLL    329\n",
      "R            366\n",
      "ALSFRS-R     381\n",
      "dtype: int64\n",
      "\n",
      "Number of nulls per column\n",
      "REF          0\n",
      "ALSFRSb      0\n",
      "ALSFRSsUL    0\n",
      "ALSFRSsT     0\n",
      "ALSFRSsLL    0\n",
      "R            0\n",
      "ALSFRS-R     0\n",
      "dtype: int64\n"
     ]
    }
   ],
   "source": [
    "#removing rows with NaN values\n",
    "print(f\"Number of nulls per column\\n{temporal_df.isnull().sum()}\")\n",
    "temporal_df = temporal_df.dropna()\n",
    "print(f\"\\nNumber of nulls per column\\n{temporal_df.isnull().sum()}\")"
   ]
  },
  {
   "cell_type": "code",
   "execution_count": 89,
   "metadata": {},
   "outputs": [
    {
     "name": "stdout",
     "output_type": "stream",
     "text": [
      "\n",
      "Reference counts:\n",
      "REF\n",
      "723     26\n",
      "269     25\n",
      "608     24\n",
      "395     24\n",
      "981     23\n",
      "        ..\n",
      "1162     1\n",
      "1453     1\n",
      "110      1\n",
      "519      1\n",
      "521      1\n",
      "Name: count, Length: 957, dtype: int64\n"
     ]
    }
   ],
   "source": [
    "ref_counts = temporal_df['REF'].value_counts()\n",
    "print(f\"\\nReference counts:\\n{ref_counts}\")"
   ]
  },
  {
   "cell_type": "code",
   "execution_count": 90,
   "metadata": {},
   "outputs": [
    {
     "name": "stdout",
     "output_type": "stream",
     "text": [
      "\n",
      "Unique values in column 'ALSFRSb':\n",
      "[12.  3. 10.  9.  4. 11.  7.  8.  6.  5.  2.  0.  1.]\n",
      "\n",
      "Unique values in column 'ALSFRSsUL':\n",
      "[8. 5. 6. 3. 4. 2. 7. 1. 0.]\n",
      "\n",
      "Unique values in column 'ALSFRSsT':\n",
      "[6. 4. 7. 2. 8. 3. 5. 1. 0.]\n",
      "\n",
      "Unique values in column 'ALSFRSsLL':\n",
      "[4. 3. 6. 8. 5. 7. 1. 0. 2.]\n",
      "\n",
      "Unique values in column 'R':\n",
      "[12. 11. 10.  7.  9.  8.]\n",
      "\n",
      "Unique values in column 'ALSFRS-R':\n",
      "[42. 41. 36. 37. 38. 32. 46. 45. 44. 31. 27. 40. 39. 35. 30. 33. 47. 43.\n",
      " 29. 28. 26. 34. 25. 22. 24. 23. 17. 20. 19. 21. 48. 16. 18. 15. 14. 12.\n",
      " 11. 13.]\n"
     ]
    }
   ],
   "source": [
    "#print the unique values in all columns except 'REF'\n",
    "for col in temporal_df.columns:\n",
    "    if col != 'REF':\n",
    "        unique_values = temporal_df[col].unique()\n",
    "        print(f\"\\nUnique values in column '{col}':\\n{unique_values}\")"
   ]
  },
  {
   "cell_type": "code",
   "execution_count": 91,
   "metadata": {},
   "outputs": [],
   "source": [
    "temporal_df = temporal_df.groupby('REF').filter(lambda x: len(x) >= 2)"
   ]
  },
  {
   "cell_type": "code",
   "execution_count": 92,
   "metadata": {},
   "outputs": [],
   "source": [
    "temporal_df = temporal_df.groupby('REF').head(5)"
   ]
  },
  {
   "cell_type": "code",
   "execution_count": 93,
   "metadata": {},
   "outputs": [],
   "source": [
    "def alsfrs_intervals(val):\n",
    "    if val < 4:\n",
    "        return '<4'\n",
    "    elif 4 <= val < 8:\n",
    "        return '[4,8['\n",
    "    elif 8 <= val < 12:\n",
    "        return '[8,12['\n",
    "    else:\n",
    "        return '12'"
   ]
  },
  {
   "cell_type": "code",
   "execution_count": 94,
   "metadata": {},
   "outputs": [],
   "source": [
    "cols = ['ALSFRSb', 'ALSFRSsUL', 'ALSFRSsT', 'ALSFRSsLL', 'R']\n",
    "for col in cols:\n",
    "    temporal_df[col] = temporal_df[col].apply(alsfrs_intervals)"
   ]
  },
  {
   "cell_type": "code",
   "execution_count": 95,
   "metadata": {},
   "outputs": [
    {
     "data": {
      "text/html": [
       "<div>\n",
       "<style scoped>\n",
       "    .dataframe tbody tr th:only-of-type {\n",
       "        vertical-align: middle;\n",
       "    }\n",
       "\n",
       "    .dataframe tbody tr th {\n",
       "        vertical-align: top;\n",
       "    }\n",
       "\n",
       "    .dataframe thead th {\n",
       "        text-align: right;\n",
       "    }\n",
       "</style>\n",
       "<table border=\"1\" class=\"dataframe\">\n",
       "  <thead>\n",
       "    <tr style=\"text-align: right;\">\n",
       "      <th></th>\n",
       "      <th>REF</th>\n",
       "      <th>ALSFRSb</th>\n",
       "      <th>ALSFRSsUL</th>\n",
       "      <th>ALSFRSsT</th>\n",
       "      <th>ALSFRSsLL</th>\n",
       "      <th>R</th>\n",
       "      <th>ALSFRS-R</th>\n",
       "    </tr>\n",
       "  </thead>\n",
       "  <tbody>\n",
       "    <tr>\n",
       "      <th>0</th>\n",
       "      <td>2</td>\n",
       "      <td>12</td>\n",
       "      <td>[8,12[</td>\n",
       "      <td>[4,8[</td>\n",
       "      <td>[4,8[</td>\n",
       "      <td>12</td>\n",
       "      <td>42.0</td>\n",
       "    </tr>\n",
       "    <tr>\n",
       "      <th>1</th>\n",
       "      <td>2</td>\n",
       "      <td>12</td>\n",
       "      <td>[8,12[</td>\n",
       "      <td>[4,8[</td>\n",
       "      <td>[4,8[</td>\n",
       "      <td>12</td>\n",
       "      <td>42.0</td>\n",
       "    </tr>\n",
       "    <tr>\n",
       "      <th>2</th>\n",
       "      <td>2</td>\n",
       "      <td>12</td>\n",
       "      <td>[8,12[</td>\n",
       "      <td>[4,8[</td>\n",
       "      <td>&lt;4</td>\n",
       "      <td>12</td>\n",
       "      <td>41.0</td>\n",
       "    </tr>\n",
       "  </tbody>\n",
       "</table>\n",
       "</div>"
      ],
      "text/plain": [
       "   REF ALSFRSb ALSFRSsUL ALSFRSsT ALSFRSsLL   R  ALSFRS-R\n",
       "0    2      12    [8,12[    [4,8[     [4,8[  12      42.0\n",
       "1    2      12    [8,12[    [4,8[     [4,8[  12      42.0\n",
       "2    2      12    [8,12[    [4,8[        <4  12      41.0"
      ]
     },
     "execution_count": 95,
     "metadata": {},
     "output_type": "execute_result"
    }
   ],
   "source": [
    "temporal_df.head(3)"
   ]
  },
  {
   "cell_type": "code",
   "execution_count": 96,
   "metadata": {},
   "outputs": [],
   "source": [
    "def alsfrs_r(val):\n",
    "    if val < 12:\n",
    "        return '<12'\n",
    "    elif 12 <= val < 24:\n",
    "        return '[12,24['\n",
    "    elif 24 <= val < 36:\n",
    "        return '[24,36['\n",
    "    else:\n",
    "        return '>=36'"
   ]
  },
  {
   "cell_type": "code",
   "execution_count": 97,
   "metadata": {},
   "outputs": [],
   "source": [
    "temporal_df['ALSFRS-R'] = temporal_df['ALSFRS-R'].apply(alsfrs_r)"
   ]
  },
  {
   "cell_type": "code",
   "execution_count": 98,
   "metadata": {},
   "outputs": [
    {
     "data": {
      "text/html": [
       "<div>\n",
       "<style scoped>\n",
       "    .dataframe tbody tr th:only-of-type {\n",
       "        vertical-align: middle;\n",
       "    }\n",
       "\n",
       "    .dataframe tbody tr th {\n",
       "        vertical-align: top;\n",
       "    }\n",
       "\n",
       "    .dataframe thead th {\n",
       "        text-align: right;\n",
       "    }\n",
       "</style>\n",
       "<table border=\"1\" class=\"dataframe\">\n",
       "  <thead>\n",
       "    <tr style=\"text-align: right;\">\n",
       "      <th></th>\n",
       "      <th>REF</th>\n",
       "      <th>ALSFRSb</th>\n",
       "      <th>ALSFRSsUL</th>\n",
       "      <th>ALSFRSsT</th>\n",
       "      <th>ALSFRSsLL</th>\n",
       "      <th>R</th>\n",
       "      <th>ALSFRS-R</th>\n",
       "    </tr>\n",
       "  </thead>\n",
       "  <tbody>\n",
       "    <tr>\n",
       "      <th>0</th>\n",
       "      <td>2</td>\n",
       "      <td>12</td>\n",
       "      <td>[8,12[</td>\n",
       "      <td>[4,8[</td>\n",
       "      <td>[4,8[</td>\n",
       "      <td>12</td>\n",
       "      <td>&gt;=36</td>\n",
       "    </tr>\n",
       "    <tr>\n",
       "      <th>1</th>\n",
       "      <td>2</td>\n",
       "      <td>12</td>\n",
       "      <td>[8,12[</td>\n",
       "      <td>[4,8[</td>\n",
       "      <td>[4,8[</td>\n",
       "      <td>12</td>\n",
       "      <td>&gt;=36</td>\n",
       "    </tr>\n",
       "    <tr>\n",
       "      <th>2</th>\n",
       "      <td>2</td>\n",
       "      <td>12</td>\n",
       "      <td>[8,12[</td>\n",
       "      <td>[4,8[</td>\n",
       "      <td>&lt;4</td>\n",
       "      <td>12</td>\n",
       "      <td>&gt;=36</td>\n",
       "    </tr>\n",
       "  </tbody>\n",
       "</table>\n",
       "</div>"
      ],
      "text/plain": [
       "   REF ALSFRSb ALSFRSsUL ALSFRSsT ALSFRSsLL   R ALSFRS-R\n",
       "0    2      12    [8,12[    [4,8[     [4,8[  12     >=36\n",
       "1    2      12    [8,12[    [4,8[     [4,8[  12     >=36\n",
       "2    2      12    [8,12[    [4,8[        <4  12     >=36"
      ]
     },
     "execution_count": 98,
     "metadata": {},
     "output_type": "execute_result"
    }
   ],
   "source": [
    "temporal_df.head(3)"
   ]
  },
  {
   "cell_type": "code",
   "execution_count": 99,
   "metadata": {},
   "outputs": [
    {
     "name": "stdout",
     "output_type": "stream",
     "text": [
      "\n",
      "Unique values in column 'ALSFRSb':\n",
      "['12' '[8,12[' '[4,8[' '<4']\n",
      "\n",
      "Unique values in column 'ALSFRSsUL':\n",
      "['[8,12[' '[4,8[' '<4']\n",
      "\n",
      "Unique values in column 'ALSFRSsT':\n",
      "['[4,8[' '<4' '[8,12[']\n",
      "\n",
      "Unique values in column 'ALSFRSsLL':\n",
      "['[4,8[' '<4' '[8,12[']\n",
      "\n",
      "Unique values in column 'R':\n",
      "['12' '[8,12[']\n",
      "\n",
      "Unique values in column 'ALSFRS-R':\n",
      "['>=36' '[24,36[' '[12,24[' '<12']\n"
     ]
    }
   ],
   "source": [
    "#print the unique values in all columns except 'REF'\n",
    "for col in temporal_df.columns:\n",
    "    if col != 'REF':\n",
    "        unique_values = temporal_df[col].unique()\n",
    "        print(f\"\\nUnique values in column '{col}':\\n{unique_values}\")"
   ]
  },
  {
   "cell_type": "code",
   "execution_count": 100,
   "metadata": {},
   "outputs": [],
   "source": [
    "def create_sequence_db_df(df):\n",
    "    records = []\n",
    "    item_mapping = {}\n",
    "    item_counter = 1\n",
    "\n",
    "    for ref, group in df.groupby('REF'):\n",
    "        parts = []       # for SPMF encoding\n",
    "        parts_raw = []   # for human‐readable\n",
    "        for t, (_, row) in enumerate(group.iterrows()):\n",
    "            # build encoded item list\n",
    "            items = []\n",
    "            for col in df.columns:\n",
    "                if col == 'REF':\n",
    "                    continue\n",
    "                value = str(row[col])\n",
    "                key = f\"{col}={value}\"\n",
    "                if key not in item_mapping:\n",
    "                    item_mapping[key] = item_counter\n",
    "                    item_counter += 1\n",
    "                items.append(str(item_mapping[key]))\n",
    "            parts.append(f\"<{t}> \" + \" \".join(items) + \" -1\")\n",
    "\n",
    "            # build raw tuple\n",
    "            raw_items = \" \".join(f\"{col} = {row[col]}\"\n",
    "                                 for col in df.columns if col != 'REF')\n",
    "            parts_raw.append(f\"({t}, {raw_items} )\")\n",
    "\n",
    "        sequence_str = \" \".join(parts) + \" -2\"\n",
    "        sequence_raw = \" \".join(parts_raw)\n",
    "        records.append({\n",
    "            'REF': ref,\n",
    "            'Sequence': sequence_str,\n",
    "            'Sequence_raw': sequence_raw\n",
    "        })\n",
    "\n",
    "    # build mapping header\n",
    "    mapping_str = \"@CONVERTED_FROM_TEXT\\n\"\n",
    "    for key, number in item_mapping.items():\n",
    "        mapping_str += f\"@ITEM={number}={key}\\n\"\n",
    "\n",
    "    return pd.DataFrame(records), mapping_str"
   ]
  },
  {
   "cell_type": "code",
   "execution_count": 101,
   "metadata": {},
   "outputs": [],
   "source": [
    "sequences, map = create_sequence_db_df(temporal_df)"
   ]
  },
  {
   "cell_type": "code",
   "execution_count": 102,
   "metadata": {},
   "outputs": [
    {
     "data": {
      "text/html": [
       "<div>\n",
       "<style scoped>\n",
       "    .dataframe tbody tr th:only-of-type {\n",
       "        vertical-align: middle;\n",
       "    }\n",
       "\n",
       "    .dataframe tbody tr th {\n",
       "        vertical-align: top;\n",
       "    }\n",
       "\n",
       "    .dataframe thead th {\n",
       "        text-align: right;\n",
       "    }\n",
       "</style>\n",
       "<table border=\"1\" class=\"dataframe\">\n",
       "  <thead>\n",
       "    <tr style=\"text-align: right;\">\n",
       "      <th></th>\n",
       "      <th>REF</th>\n",
       "      <th>Sequence</th>\n",
       "      <th>Sequence_raw</th>\n",
       "    </tr>\n",
       "  </thead>\n",
       "  <tbody>\n",
       "    <tr>\n",
       "      <th>0</th>\n",
       "      <td>2</td>\n",
       "      <td>&lt;0&gt; 1 2 3 4 5 6 -1 &lt;1&gt; 1 2 3 4 5 6 -1 &lt;2&gt; 1 2 3 7 5 6 -1 &lt;3&gt; 1 8 3 7 5 6 -1 -2</td>\n",
       "      <td>(0, ALSFRSb = 12 ALSFRSsUL = [8,12[ ALSFRSsT = [4,8[ ALSFRSsLL = [4,8[ R = 12 ALSFRS-R = &gt;=36 ) (1, ALSFRSb = 12 ALSFRSsUL = [8,12[ ALSFRSsT = [4,8[ ALSFRSsLL = [4,8[ R = 12 ALSFRS-R = &gt;=36 ) (2, ALSFRSb = 12 ALSFRSsUL = [8,12[ ALSFRSsT = [4,8[ ALSFRSsLL = &lt;4 R = 12 ALSFRS-R = &gt;=36 ) (3, ALSFRSb = 12 ALSFRSsUL = [4,8[ ALSFRSsT = [4,8[ ALSFRSsLL = &lt;4 R = 12 ALSFRS-R = &gt;=36 )</td>\n",
       "    </tr>\n",
       "    <tr>\n",
       "      <th>1</th>\n",
       "      <td>8</td>\n",
       "      <td>&lt;0&gt; 1 8 3 9 5 6 -1 &lt;1&gt; 1 10 11 9 5 6 -1 -2</td>\n",
       "      <td>(0, ALSFRSb = 12 ALSFRSsUL = [4,8[ ALSFRSsT = [4,8[ ALSFRSsLL = [8,12[ R = 12 ALSFRS-R = &gt;=36 ) (1, ALSFRSb = 12 ALSFRSsUL = &lt;4 ALSFRSsT = &lt;4 ALSFRSsLL = [8,12[ R = 12 ALSFRS-R = &gt;=36 )</td>\n",
       "    </tr>\n",
       "    <tr>\n",
       "      <th>2</th>\n",
       "      <td>9</td>\n",
       "      <td>&lt;0&gt; 1 8 3 7 5 6 -1 &lt;1&gt; 1 10 3 4 5 6 -1 &lt;2&gt; 1 8 11 7 12 13 -1 &lt;3&gt; 1 10 3 7 5 6 -1 &lt;4&gt; 1 10 3 7 12 13 -1 -2</td>\n",
       "      <td>(0, ALSFRSb = 12 ALSFRSsUL = [4,8[ ALSFRSsT = [4,8[ ALSFRSsLL = &lt;4 R = 12 ALSFRS-R = &gt;=36 ) (1, ALSFRSb = 12 ALSFRSsUL = &lt;4 ALSFRSsT = [4,8[ ALSFRSsLL = [4,8[ R = 12 ALSFRS-R = &gt;=36 ) (2, ALSFRSb = 12 ALSFRSsUL = [4,8[ ALSFRSsT = &lt;4 ALSFRSsLL = &lt;4 R = [8,12[ ALSFRS-R = [24,36[ ) (3, ALSFRSb = 12 ALSFRSsUL = &lt;4 ALSFRSsT = [4,8[ ALSFRSsLL = &lt;4 R = 12 ALSFRS-R = &gt;=36 ) (4, ALSFRSb = 12 ALSFRSsUL = &lt;4 ALSFRSsT = [4,8[ ALSFRSsLL = &lt;4 R = [8,12[ ALSFRS-R = [24,36[ )</td>\n",
       "    </tr>\n",
       "    <tr>\n",
       "      <th>3</th>\n",
       "      <td>10</td>\n",
       "      <td>&lt;0&gt; 14 2 15 9 5 6 -1 &lt;1&gt; 14 2 3 9 5 6 -1 &lt;2&gt; 14 2 15 9 12 6 -1 -2</td>\n",
       "      <td>(0, ALSFRSb = [8,12[ ALSFRSsUL = [8,12[ ALSFRSsT = [8,12[ ALSFRSsLL = [8,12[ R = 12 ALSFRS-R = &gt;=36 ) (1, ALSFRSb = [8,12[ ALSFRSsUL = [8,12[ ALSFRSsT = [4,8[ ALSFRSsLL = [8,12[ R = 12 ALSFRS-R = &gt;=36 ) (2, ALSFRSb = [8,12[ ALSFRSsUL = [8,12[ ALSFRSsT = [8,12[ ALSFRSsLL = [8,12[ R = [8,12[ ALSFRS-R = &gt;=36 )</td>\n",
       "    </tr>\n",
       "    <tr>\n",
       "      <th>4</th>\n",
       "      <td>14</td>\n",
       "      <td>&lt;0&gt; 14 8 3 7 12 13 -1 &lt;1&gt; 14 10 11 7 12 13 -1 -2</td>\n",
       "      <td>(0, ALSFRSb = [8,12[ ALSFRSsUL = [4,8[ ALSFRSsT = [4,8[ ALSFRSsLL = &lt;4 R = [8,12[ ALSFRS-R = [24,36[ ) (1, ALSFRSb = [8,12[ ALSFRSsUL = &lt;4 ALSFRSsT = &lt;4 ALSFRSsLL = &lt;4 R = [8,12[ ALSFRS-R = [24,36[ )</td>\n",
       "    </tr>\n",
       "  </tbody>\n",
       "</table>\n",
       "</div>"
      ],
      "text/plain": [
       "   REF  \\\n",
       "0    2   \n",
       "1    8   \n",
       "2    9   \n",
       "3   10   \n",
       "4   14   \n",
       "\n",
       "                                                                                                    Sequence  \\\n",
       "0                             <0> 1 2 3 4 5 6 -1 <1> 1 2 3 4 5 6 -1 <2> 1 2 3 7 5 6 -1 <3> 1 8 3 7 5 6 -1 -2   \n",
       "1                                                                 <0> 1 8 3 9 5 6 -1 <1> 1 10 11 9 5 6 -1 -2   \n",
       "2  <0> 1 8 3 7 5 6 -1 <1> 1 10 3 4 5 6 -1 <2> 1 8 11 7 12 13 -1 <3> 1 10 3 7 5 6 -1 <4> 1 10 3 7 12 13 -1 -2   \n",
       "3                                          <0> 14 2 15 9 5 6 -1 <1> 14 2 3 9 5 6 -1 <2> 14 2 15 9 12 6 -1 -2   \n",
       "4                                                           <0> 14 8 3 7 12 13 -1 <1> 14 10 11 7 12 13 -1 -2   \n",
       "\n",
       "                                                                                                                                                                                                                                                                                                                                                                                                                                                                       Sequence_raw  \n",
       "0                                                                                          (0, ALSFRSb = 12 ALSFRSsUL = [8,12[ ALSFRSsT = [4,8[ ALSFRSsLL = [4,8[ R = 12 ALSFRS-R = >=36 ) (1, ALSFRSb = 12 ALSFRSsUL = [8,12[ ALSFRSsT = [4,8[ ALSFRSsLL = [4,8[ R = 12 ALSFRS-R = >=36 ) (2, ALSFRSb = 12 ALSFRSsUL = [8,12[ ALSFRSsT = [4,8[ ALSFRSsLL = <4 R = 12 ALSFRS-R = >=36 ) (3, ALSFRSb = 12 ALSFRSsUL = [4,8[ ALSFRSsT = [4,8[ ALSFRSsLL = <4 R = 12 ALSFRS-R = >=36 )  \n",
       "1                                                                                                                                                                                                                                                                                         (0, ALSFRSb = 12 ALSFRSsUL = [4,8[ ALSFRSsT = [4,8[ ALSFRSsLL = [8,12[ R = 12 ALSFRS-R = >=36 ) (1, ALSFRSb = 12 ALSFRSsUL = <4 ALSFRSsT = <4 ALSFRSsLL = [8,12[ R = 12 ALSFRS-R = >=36 )  \n",
       "2  (0, ALSFRSb = 12 ALSFRSsUL = [4,8[ ALSFRSsT = [4,8[ ALSFRSsLL = <4 R = 12 ALSFRS-R = >=36 ) (1, ALSFRSb = 12 ALSFRSsUL = <4 ALSFRSsT = [4,8[ ALSFRSsLL = [4,8[ R = 12 ALSFRS-R = >=36 ) (2, ALSFRSb = 12 ALSFRSsUL = [4,8[ ALSFRSsT = <4 ALSFRSsLL = <4 R = [8,12[ ALSFRS-R = [24,36[ ) (3, ALSFRSb = 12 ALSFRSsUL = <4 ALSFRSsT = [4,8[ ALSFRSsLL = <4 R = 12 ALSFRS-R = >=36 ) (4, ALSFRSb = 12 ALSFRSsUL = <4 ALSFRSsT = [4,8[ ALSFRSsLL = <4 R = [8,12[ ALSFRS-R = [24,36[ )  \n",
       "3                                                                                                                                                              (0, ALSFRSb = [8,12[ ALSFRSsUL = [8,12[ ALSFRSsT = [8,12[ ALSFRSsLL = [8,12[ R = 12 ALSFRS-R = >=36 ) (1, ALSFRSb = [8,12[ ALSFRSsUL = [8,12[ ALSFRSsT = [4,8[ ALSFRSsLL = [8,12[ R = 12 ALSFRS-R = >=36 ) (2, ALSFRSb = [8,12[ ALSFRSsUL = [8,12[ ALSFRSsT = [8,12[ ALSFRSsLL = [8,12[ R = [8,12[ ALSFRS-R = >=36 )  \n",
       "4                                                                                                                                                                                                                                                                           (0, ALSFRSb = [8,12[ ALSFRSsUL = [4,8[ ALSFRSsT = [4,8[ ALSFRSsLL = <4 R = [8,12[ ALSFRS-R = [24,36[ ) (1, ALSFRSb = [8,12[ ALSFRSsUL = <4 ALSFRSsT = <4 ALSFRSsLL = <4 R = [8,12[ ALSFRS-R = [24,36[ )  "
      ]
     },
     "execution_count": 102,
     "metadata": {},
     "output_type": "execute_result"
    }
   ],
   "source": [
    "sequences.head()"
   ]
  },
  {
   "cell_type": "code",
   "execution_count": 103,
   "metadata": {},
   "outputs": [],
   "source": [
    "def save_sequences_and_map(sequences_df, mapping_str, filename):\n",
    "    with open(filename, 'w', encoding='utf-8') as f:\n",
    "        f.write(mapping_str)\n",
    "        for seq in sequences_df['Sequence']:\n",
    "            f.write(seq.strip() + '\\n')"
   ]
  },
  {
   "cell_type": "code",
   "execution_count": 104,
   "metadata": {},
   "outputs": [],
   "source": [
    "save_sequences_and_map(sequences, map, 'sequences.txt')"
   ]
  },
  {
   "cell_type": "code",
   "execution_count": 105,
   "metadata": {},
   "outputs": [
    {
     "data": {
      "text/plain": [
       "0"
      ]
     },
     "execution_count": 105,
     "metadata": {},
     "output_type": "execute_result"
    }
   ],
   "source": [
    "os.system(\"java -jar spmf.jar run Fournier08-Closed+time sequences.txt output.txt 50% 2 10 2 10\")"
   ]
  },
  {
   "cell_type": "code",
   "execution_count": 109,
   "metadata": {},
   "outputs": [],
   "source": [
    "# import re\n",
    "\n",
    "# with open('output.txt','r',encoding='utf-8') as f:\n",
    "#     lines = f.readlines()\n",
    "\n",
    "# records = []\n",
    "# for line in lines:\n",
    "#     line = line.strip()\n",
    "#     if not line or not line.startswith('<'):\n",
    "#         continue\n",
    "\n",
    "#     pat, sup = line.split('#SUP:')\n",
    "#     sup = int(sup.strip())\n",
    "#     pat = pat.strip()\n",
    "\n",
    "#     # extract each (<time> items -1)\n",
    "#     sets = re.findall(r'<(\\d+)>\\s+(.*?)\\s+-1', pat)\n",
    "\n",
    "#     # build human-readable sequence_raw with spaces around '='\n",
    "#     seq_parts = []\n",
    "#     for t, items in sets:\n",
    "#         tokens = items.split()\n",
    "#         human_items = []\n",
    "#         for tok in tokens:\n",
    "#             feat, val = tok.split('=', 1)\n",
    "#             human_items.append(f\"{feat} = {val}\")\n",
    "#         seq_parts.append(f\"({t}, {' '.join(human_items)} )\")\n",
    "#     seq_raw = \" \".join(seq_parts)\n",
    "\n",
    "#     records.append({\n",
    "#         # 'pattern': pat,\n",
    "#         'sequence_raw': seq_raw,\n",
    "#         'support': sup\n",
    "#     })\n",
    "\n",
    "# df_patterns = pd.DataFrame(records)\n",
    "# df_patterns.head()"
   ]
  },
  {
   "cell_type": "code",
   "execution_count": null,
   "metadata": {},
   "outputs": [
    {
     "data": {
      "text/html": [
       "<div>\n",
       "<style scoped>\n",
       "    .dataframe tbody tr th:only-of-type {\n",
       "        vertical-align: middle;\n",
       "    }\n",
       "\n",
       "    .dataframe tbody tr th {\n",
       "        vertical-align: top;\n",
       "    }\n",
       "\n",
       "    .dataframe thead th {\n",
       "        text-align: right;\n",
       "    }\n",
       "</style>\n",
       "<table border=\"1\" class=\"dataframe\">\n",
       "  <thead>\n",
       "    <tr style=\"text-align: right;\">\n",
       "      <th></th>\n",
       "      <th>pattern</th>\n",
       "      <th>decoded_pattern</th>\n",
       "      <th>support</th>\n",
       "      <th>REFs</th>\n",
       "    </tr>\n",
       "  </thead>\n",
       "  <tbody>\n",
       "    <tr>\n",
       "      <th>0</th>\n",
       "      <td>&lt;0&gt; R=12 -1 &lt;2&gt; R=12 -1</td>\n",
       "      <td>(0, R = 12 ) (2, R = 12 )</td>\n",
       "      <td>389</td>\n",
       "      <td>[]</td>\n",
       "    </tr>\n",
       "    <tr>\n",
       "      <th>1</th>\n",
       "      <td>&lt;0&gt; R=12 ALSFRS-R=&gt;=36 -1 &lt;2&gt; R=12 -1</td>\n",
       "      <td>(0, R = 12 ALSFRS-R = &gt;=36 ) (2, R = 12 )</td>\n",
       "      <td>364</td>\n",
       "      <td>[]</td>\n",
       "    </tr>\n",
       "    <tr>\n",
       "      <th>2</th>\n",
       "      <td>&lt;0&gt; ALSFRS-R=&gt;=36 -1 &lt;2&gt; R=12 -1</td>\n",
       "      <td>(0, ALSFRS-R = &gt;=36 ) (2, R = 12 )</td>\n",
       "      <td>388</td>\n",
       "      <td>[]</td>\n",
       "    </tr>\n",
       "    <tr>\n",
       "      <th>3</th>\n",
       "      <td>&lt;0&gt; ALSFRS-R=&gt;=36 -1 &lt;2&gt; ALSFRSsT=[4,8[ -1</td>\n",
       "      <td>(0, ALSFRS-R = &gt;=36 ) (2, ALSFRSsT = [4,8[ )</td>\n",
       "      <td>347</td>\n",
       "      <td>[]</td>\n",
       "    </tr>\n",
       "    <tr>\n",
       "      <th>4</th>\n",
       "      <td>&lt;0&gt; ALSFRS-R=&gt;=36 -1 &lt;2&gt; ALSFRS-R=&gt;=36 -1</td>\n",
       "      <td>(0, ALSFRS-R = &gt;=36 ) (2, ALSFRS-R = &gt;=36 )</td>\n",
       "      <td>360</td>\n",
       "      <td>[]</td>\n",
       "    </tr>\n",
       "  </tbody>\n",
       "</table>\n",
       "</div>"
      ],
      "text/plain": [
       "                                      pattern  \\\n",
       "0                     <0> R=12 -1 <2> R=12 -1   \n",
       "1       <0> R=12 ALSFRS-R=>=36 -1 <2> R=12 -1   \n",
       "2            <0> ALSFRS-R=>=36 -1 <2> R=12 -1   \n",
       "3  <0> ALSFRS-R=>=36 -1 <2> ALSFRSsT=[4,8[ -1   \n",
       "4   <0> ALSFRS-R=>=36 -1 <2> ALSFRS-R=>=36 -1   \n",
       "\n",
       "                                decoded_pattern  support REFs  \n",
       "0                     (0, R = 12 ) (2, R = 12 )      389   []  \n",
       "1     (0, R = 12 ALSFRS-R = >=36 ) (2, R = 12 )      364   []  \n",
       "2            (0, ALSFRS-R = >=36 ) (2, R = 12 )      388   []  \n",
       "3  (0, ALSFRS-R = >=36 ) (2, ALSFRSsT = [4,8[ )      347   []  \n",
       "4   (0, ALSFRS-R = >=36 ) (2, ALSFRS-R = >=36 )      360   []  "
      ]
     },
     "execution_count": 107,
     "metadata": {},
     "output_type": "execute_result"
    }
   ],
   "source": [
    "import re\n",
    "\n",
    "def parse_pattern(line):\n",
    "    pat = line.split('#SUP:')[0]\n",
    "    sets = re.findall(r'<\\d+>\\s+(.*?)\\s+-1', pat)\n",
    "    return [ set(s.split()) for s in sets ]\n",
    "\n",
    "def parse_sequence(raw):\n",
    "    out = []\n",
    "    for row in raw.split('\\n'):\n",
    "        m = re.match(r'\\(\\s*\\d+,\\s*(.*?)\\s*\\)', row)\n",
    "        if not m: continue\n",
    "        toks = m.group(1).split()\n",
    "        s = set()\n",
    "        for i in range(0,len(toks),3):\n",
    "            feat,_,val = toks[i:i+3]\n",
    "            s.add(f\"{feat}={val}\")\n",
    "        out.append(s)\n",
    "    return out\n",
    "\n",
    "def is_subsequence(pat, seq):\n",
    "    i = 0\n",
    "    for pset in pat:\n",
    "        while i < len(seq) and not pset.issubset(seq[i]):\n",
    "            i += 1\n",
    "        if i == len(seq): return False\n",
    "        i += 1\n",
    "    return True\n",
    "\n",
    "pattern_records = []\n",
    "with open('output.txt','r', encoding='utf-8') as f:\n",
    "    for line in f:\n",
    "        line = line.strip()\n",
    "        if not line.startswith('<'):\n",
    "            continue\n",
    "        # split off support\n",
    "        pat_str, sup_str = line.split('#SUP:')\n",
    "        enc_pattern = pat_str.strip()         # encoded pattern\n",
    "        support     = int(sup_str.strip())\n",
    "\n",
    "        # build decoded (human-readable) pattern\n",
    "        sets = re.findall(r'<(\\d+)>\\s+(.*?)\\s+-1', enc_pattern)\n",
    "        decoded_parts = []\n",
    "        for t, items in sets:\n",
    "            tokens = items.split()\n",
    "            human_items = []\n",
    "            for tok in tokens:\n",
    "                feat, val = tok.split('=', 1)\n",
    "                human_items.append(f\"{feat} = {val}\")\n",
    "            decoded_parts.append(f\"({t}, {' '.join(human_items)} )\")\n",
    "        decoded_pattern = \" \".join(decoded_parts)\n",
    "\n",
    "        # parse & match as before\n",
    "        pat_sets = [ set(s.split()) for _,s in sets ]\n",
    "        hits = []\n",
    "        for _, seq_row in sequences.iterrows():\n",
    "            seq_sets = parse_sequence(seq_row.Sequence_raw)\n",
    "            if is_subsequence(pat_sets, seq_sets):\n",
    "                hits.append(seq_row.REF)\n",
    "\n",
    "        pattern_records.append({\n",
    "            'pattern':         enc_pattern,\n",
    "            'decoded_pattern': decoded_pattern,\n",
    "            'support':         support,\n",
    "            'REFs':            hits\n",
    "        })\n",
    "\n",
    "df_matches = pd.DataFrame(pattern_records)\n",
    "df_matches.head(50)"
   ]
  },
  {
   "cell_type": "code",
   "execution_count": 108,
   "metadata": {},
   "outputs": [
    {
     "data": {
      "text/html": [
       "<div>\n",
       "<style scoped>\n",
       "    .dataframe tbody tr th:only-of-type {\n",
       "        vertical-align: middle;\n",
       "    }\n",
       "\n",
       "    .dataframe tbody tr th {\n",
       "        vertical-align: top;\n",
       "    }\n",
       "\n",
       "    .dataframe thead th {\n",
       "        text-align: right;\n",
       "    }\n",
       "</style>\n",
       "<table border=\"1\" class=\"dataframe\">\n",
       "  <thead>\n",
       "    <tr style=\"text-align: right;\">\n",
       "      <th></th>\n",
       "      <th>pattern</th>\n",
       "      <th>decoded_pattern</th>\n",
       "      <th>support</th>\n",
       "      <th>REFs</th>\n",
       "    </tr>\n",
       "  </thead>\n",
       "  <tbody>\n",
       "    <tr>\n",
       "      <th>0</th>\n",
       "      <td>&lt;0&gt; R=12 -1 &lt;2&gt; R=12 -1</td>\n",
       "      <td>(0, R = 12 ) (2, R = 12 )</td>\n",
       "      <td>389</td>\n",
       "      <td>[2, 8, 9, 10, 17, 18, 20, 21, 24, 30, 34, 35, 36, 39, 40, 42, 43, 45, 46, 49, 50, 54, 55, 56, 64, 66, 67, 72, 74, 78, 79, 82, 85, 88, 91, 93, 94, 100, 103, 104, 105, 111, 113, 115, 119, 122, 125, 126, 133, 136, 137, 141, 144, 145, 151, 153, 156, 161, 162, 164, 165, 166, 167, 169, 171, 173, 174, 176, 177, 178, 179, 180, 185, 196, 197, 200, 201, 202, 205, 207, 210, 211, 212, 213, 214, 215, 216, 219, 220, 227, 236, 238, 241, 242, 247, 250, 253, 256, 259, 261, ...]</td>\n",
       "    </tr>\n",
       "    <tr>\n",
       "      <th>1</th>\n",
       "      <td>&lt;0&gt; R=12 ALSFRS-R=&gt;=36 -1 &lt;2&gt; R=12 -1</td>\n",
       "      <td>(0, R = 12 ALSFRS-R=&gt;=36 ) (2, R = 12 )</td>\n",
       "      <td>364</td>\n",
       "      <td>[2, 8, 9, 10, 17, 21, 24, 30, 34, 35, 39, 40, 42, 45, 46, 49, 50, 54, 55, 56, 64, 66, 67, 72, 74, 78, 79, 82, 85, 88, 91, 93, 94, 100, 103, 104, 105, 113, 115, 119, 122, 126, 136, 137, 141, 144, 145, 151, 153, 156, 161, 162, 164, 165, 166, 167, 169, 171, 173, 174, 176, 177, 178, 179, 180, 185, 196, 197, 200, 202, 205, 207, 210, 211, 212, 213, 214, 215, 220, 227, 236, 238, 241, 242, 247, 250, 253, 256, 259, 261, 262, 263, 265, 267, 269, 271, 273, 277, 278, 280, ...]</td>\n",
       "    </tr>\n",
       "    <tr>\n",
       "      <th>2</th>\n",
       "      <td>&lt;0&gt; ALSFRS-R=&gt;=36 -1 &lt;2&gt; R=12 -1</td>\n",
       "      <td>(0, ALSFRS-R = &gt;=36 ) (2, R = 12 )</td>\n",
       "      <td>388</td>\n",
       "      <td>[2, 8, 9, 10, 17, 21, 24, 30, 34, 35, 39, 40, 42, 45, 46, 49, 50, 54, 55, 56, 64, 66, 67, 72, 74, 78, 79, 82, 85, 88, 91, 93, 94, 100, 103, 104, 105, 113, 115, 119, 122, 126, 134, 136, 137, 141, 144, 145, 151, 153, 156, 161, 162, 164, 165, 166, 167, 169, 171, 173, 174, 176, 177, 178, 179, 180, 185, 196, 197, 200, 202, 205, 207, 210, 211, 212, 213, 214, 215, 220, 227, 236, 238, 241, 242, 247, 250, 253, 256, 259, 261, 262, 263, 265, 267, 269, 271, 273, 277, 278, ...]</td>\n",
       "    </tr>\n",
       "    <tr>\n",
       "      <th>3</th>\n",
       "      <td>&lt;0&gt; ALSFRS-R=&gt;=36 -1 &lt;2&gt; ALSFRSsT=[4,8[ -1</td>\n",
       "      <td>(0, ALSFRS-R = &gt;=36 ) (2, ALSFRSsT = [4,8[ )</td>\n",
       "      <td>347</td>\n",
       "      <td>[2, 9, 10, 24, 26, 30, 34, 35, 39, 40, 42, 45, 46, 49, 50, 54, 55, 56, 60, 61, 63, 64, 66, 67, 72, 74, 78, 82, 85, 88, 91, 94, 97, 100, 104, 105, 113, 115, 119, 122, 126, 134, 136, 137, 145, 151, 153, 155, 160, 162, 164, 165, 167, 169, 171, 173, 174, 177, 178, 180, 196, 197, 200, 202, 205, 207, 210, 211, 212, 214, 215, 217, 220, 222, 236, 238, 240, 241, 243, 247, 250, 256, 259, 261, 262, 263, 265, 267, 269, 271, 273, 277, 282, 285, 286, 291, 293, 305, 308, 313, ...]</td>\n",
       "    </tr>\n",
       "    <tr>\n",
       "      <th>4</th>\n",
       "      <td>&lt;0&gt; ALSFRS-R=&gt;=36 -1 &lt;2&gt; ALSFRS-R=&gt;=36 -1</td>\n",
       "      <td>(0, ALSFRS-R = &gt;=36 ) (2, ALSFRS-R = &gt;=36 )</td>\n",
       "      <td>360</td>\n",
       "      <td>[2, 8, 9, 10, 17, 21, 24, 26, 30, 34, 35, 39, 40, 42, 45, 46, 49, 50, 54, 55, 56, 60, 61, 63, 64, 66, 72, 74, 78, 79, 82, 85, 88, 91, 93, 94, 99, 100, 103, 104, 113, 115, 119, 122, 126, 134, 136, 137, 141, 151, 155, 156, 160, 161, 162, 164, 166, 167, 169, 171, 173, 174, 176, 177, 179, 185, 196, 197, 200, 202, 203, 205, 207, 208, 210, 211, 212, 213, 214, 215, 217, 220, 227, 236, 238, 241, 242, 243, 244, 247, 250, 253, 256, 259, 261, 262, 263, 265, 267, 269, ...]</td>\n",
       "    </tr>\n",
       "  </tbody>\n",
       "</table>\n",
       "</div>"
      ],
      "text/plain": [
       "                                      pattern  \\\n",
       "0                     <0> R=12 -1 <2> R=12 -1   \n",
       "1       <0> R=12 ALSFRS-R=>=36 -1 <2> R=12 -1   \n",
       "2            <0> ALSFRS-R=>=36 -1 <2> R=12 -1   \n",
       "3  <0> ALSFRS-R=>=36 -1 <2> ALSFRSsT=[4,8[ -1   \n",
       "4   <0> ALSFRS-R=>=36 -1 <2> ALSFRS-R=>=36 -1   \n",
       "\n",
       "                                decoded_pattern  support  \\\n",
       "0                     (0, R = 12 ) (2, R = 12 )      389   \n",
       "1       (0, R = 12 ALSFRS-R=>=36 ) (2, R = 12 )      364   \n",
       "2            (0, ALSFRS-R = >=36 ) (2, R = 12 )      388   \n",
       "3  (0, ALSFRS-R = >=36 ) (2, ALSFRSsT = [4,8[ )      347   \n",
       "4   (0, ALSFRS-R = >=36 ) (2, ALSFRS-R = >=36 )      360   \n",
       "\n",
       "                                                                                                                                                                                                                                                                                                                                                                                                                                                                                     REFs  \n",
       "0       [2, 8, 9, 10, 17, 18, 20, 21, 24, 30, 34, 35, 36, 39, 40, 42, 43, 45, 46, 49, 50, 54, 55, 56, 64, 66, 67, 72, 74, 78, 79, 82, 85, 88, 91, 93, 94, 100, 103, 104, 105, 111, 113, 115, 119, 122, 125, 126, 133, 136, 137, 141, 144, 145, 151, 153, 156, 161, 162, 164, 165, 166, 167, 169, 171, 173, 174, 176, 177, 178, 179, 180, 185, 196, 197, 200, 201, 202, 205, 207, 210, 211, 212, 213, 214, 215, 216, 219, 220, 227, 236, 238, 241, 242, 247, 250, 253, 256, 259, 261, ...]  \n",
       "1   [2, 8, 9, 10, 17, 21, 24, 30, 34, 35, 39, 40, 42, 45, 46, 49, 50, 54, 55, 56, 64, 66, 67, 72, 74, 78, 79, 82, 85, 88, 91, 93, 94, 100, 103, 104, 105, 113, 115, 119, 122, 126, 136, 137, 141, 144, 145, 151, 153, 156, 161, 162, 164, 165, 166, 167, 169, 171, 173, 174, 176, 177, 178, 179, 180, 185, 196, 197, 200, 202, 205, 207, 210, 211, 212, 213, 214, 215, 220, 227, 236, 238, 241, 242, 247, 250, 253, 256, 259, 261, 262, 263, 265, 267, 269, 271, 273, 277, 278, 280, ...]  \n",
       "2   [2, 8, 9, 10, 17, 21, 24, 30, 34, 35, 39, 40, 42, 45, 46, 49, 50, 54, 55, 56, 64, 66, 67, 72, 74, 78, 79, 82, 85, 88, 91, 93, 94, 100, 103, 104, 105, 113, 115, 119, 122, 126, 134, 136, 137, 141, 144, 145, 151, 153, 156, 161, 162, 164, 165, 166, 167, 169, 171, 173, 174, 176, 177, 178, 179, 180, 185, 196, 197, 200, 202, 205, 207, 210, 211, 212, 213, 214, 215, 220, 227, 236, 238, 241, 242, 247, 250, 253, 256, 259, 261, 262, 263, 265, 267, 269, 271, 273, 277, 278, ...]  \n",
       "3  [2, 9, 10, 24, 26, 30, 34, 35, 39, 40, 42, 45, 46, 49, 50, 54, 55, 56, 60, 61, 63, 64, 66, 67, 72, 74, 78, 82, 85, 88, 91, 94, 97, 100, 104, 105, 113, 115, 119, 122, 126, 134, 136, 137, 145, 151, 153, 155, 160, 162, 164, 165, 167, 169, 171, 173, 174, 177, 178, 180, 196, 197, 200, 202, 205, 207, 210, 211, 212, 214, 215, 217, 220, 222, 236, 238, 240, 241, 243, 247, 250, 256, 259, 261, 262, 263, 265, 267, 269, 271, 273, 277, 282, 285, 286, 291, 293, 305, 308, 313, ...]  \n",
       "4       [2, 8, 9, 10, 17, 21, 24, 26, 30, 34, 35, 39, 40, 42, 45, 46, 49, 50, 54, 55, 56, 60, 61, 63, 64, 66, 72, 74, 78, 79, 82, 85, 88, 91, 93, 94, 99, 100, 103, 104, 113, 115, 119, 122, 126, 134, 136, 137, 141, 151, 155, 156, 160, 161, 162, 164, 166, 167, 169, 171, 173, 174, 176, 177, 179, 185, 196, 197, 200, 202, 203, 205, 207, 208, 210, 211, 212, 213, 214, 215, 217, 220, 227, 236, 238, 241, 242, 243, 244, 247, 250, 253, 256, 259, 261, 262, 263, 265, 267, 269, ...]  "
      ]
     },
     "execution_count": 108,
     "metadata": {},
     "output_type": "execute_result"
    }
   ],
   "source": [
    "import re\n",
    "\n",
    "def parse_sequence(raw):\n",
    "    \"\"\"\n",
    "    raw is a single string like:\n",
    "      \"(0, A = 1 B = 2 ) (1, B = 2 ) (2, C = 3 )\"\n",
    "    This will return:\n",
    "      [ {'A=1','B=2'}, {'B=2'}, {'C=3'} ]\n",
    "    \"\"\"\n",
    "    out = []\n",
    "    # find every \"(t, …)\" chunk\n",
    "    for content in re.findall(r'\\(\\s*\\d+,\\s*(.*?)\\s*\\)', raw):\n",
    "        toks = content.split()\n",
    "        s = set()\n",
    "        # every three tokens are feat, '=', val\n",
    "        for i in range(0, len(toks), 3):\n",
    "            feat, _, val = toks[i : i+3]\n",
    "            s.add(f\"{feat}={val}\")\n",
    "        out.append(s)\n",
    "    return out\n",
    "\n",
    "# then your matching block stays the same:\n",
    "pattern_records = []\n",
    "with open('output.txt','r', encoding='utf-8') as f:\n",
    "    for line in f:\n",
    "        line = line.strip()\n",
    "        if not line.startswith('<'): continue\n",
    "\n",
    "        pat_str, sup_str = line.split('#SUP:')\n",
    "        enc_pattern = pat_str.strip()\n",
    "        support     = int(sup_str.strip())\n",
    "\n",
    "        # build decoded pattern\n",
    "        sets = re.findall(r'<(\\d+)>\\s+(.*?)\\s+-1', enc_pattern)\n",
    "        decoded = \" \".join(\n",
    "            f\"({t}, {' '.join(f'{f} = {v}' for f,v in (x.split('=',1),))} )\"\n",
    "            for t,items in sets\n",
    "            for x in [\" \".join(items.split())]  # no-op to line up formats\n",
    "        )\n",
    "        # parse the encoded sets for subsequence\n",
    "        pat_sets = [ set(s.split()) for _,s in sets ]\n",
    "\n",
    "        hits = [\n",
    "            seq_row.REF\n",
    "            for _, seq_row in sequences.iterrows()\n",
    "            if is_subsequence(pat_sets, parse_sequence(seq_row.Sequence_raw))\n",
    "        ]\n",
    "\n",
    "        pattern_records.append({\n",
    "            'pattern':         enc_pattern,\n",
    "            'decoded_pattern': decoded,\n",
    "            'support':         support,\n",
    "            'REFs':            hits\n",
    "        })\n",
    "\n",
    "df_matches = pd.DataFrame(pattern_records)\n",
    "df_matches.head(50)"
   ]
  },
  {
   "cell_type": "markdown",
   "metadata": {},
   "source": [
    "### 1.2. Compute the Sequence Database"
   ]
  },
  {
   "attachments": {},
   "cell_type": "markdown",
   "metadata": {},
   "source": [
    "Note that items have now the form `Feature=value` and you should have a sequence database with as many sequences as patients. \n",
    "\n",
    "Each sequence encodes the several time-points (maximum 5) of each patient.\n",
    "\n",
    "See `Fourier08` example (https://www.philippe-fournier-viger.com/spmf/ClosedSequentialPatterns_TimeConstraints.php) to undertand the format received by the algorithm, specially the time information. \n",
    "\n",
    "Remember also the end of the example with PrefixSpan (https://www.philippe-fournier-viger.com/spmf/PrefixSpan.php) to understand how to use strings instead of integers to encode items ."
   ]
  },
  {
   "cell_type": "code",
   "execution_count": 12,
   "metadata": {},
   "outputs": [],
   "source": [
    "# Write code in cells like this\n",
    "# ...."
   ]
  },
  {
   "cell_type": "markdown",
   "metadata": {},
   "source": [
    "Write text in cells like this ...\n"
   ]
  },
  {
   "cell_type": "markdown",
   "metadata": {},
   "source": [
    "### 1.3. Compute Sequential Patterns"
   ]
  },
  {
   "cell_type": "markdown",
   "metadata": {
    "collapsed": true,
    "jupyter": {
     "outputs_hidden": true
    }
   },
   "source": [
    "Use `Fourier08` to compute the closed sequential patterns. Trivial patterns of length 1 should be discarded.\n",
    "\n",
    "Note that later you need to know what are the sequences (patients) where the patterns occur (the algorithm can output that info)."
   ]
  },
  {
   "cell_type": "code",
   "execution_count": 16,
   "metadata": {},
   "outputs": [],
   "source": [
    "# Write code in cells like this\n",
    "# ...."
   ]
  },
  {
   "cell_type": "markdown",
   "metadata": {},
   "source": [
    "Write text in cells like this ...\n"
   ]
  },
  {
   "cell_type": "markdown",
   "metadata": {},
   "source": [
    "## 2.  Learn a classifier to predict NIV using temporal patterns as features together with the static features\n",
    "\n",
    "In this task you should create a training set where the features are 1) the original static features `(Dataset_static_features.cvs`and 2) the sequential patterns computed above. The class labels to be used for each patient are in file `Dataset_NIV_Evolution_180.cvs`."
   ]
  },
  {
   "cell_type": "markdown",
   "metadata": {},
   "source": [
    "### 2.1. Load/Preprocess the Dataset\n",
    "\n",
    "- Remember to delete from `Dataset_static_features.csv` the patients you deleted in step 1.1. You should only have one row per patient, thus remove repetitions.\n",
    "- Remember to delete from `Dataset_NIV_Evolution_180.cvs` the patients you deleted in step 1.1.\n",
    "- Note that for each patient the class label you need from `Dataset_NIV_Evolution_180.cvs` is the one corresponding to the last time-point you considered in step 1.1."
   ]
  },
  {
   "cell_type": "code",
   "execution_count": 20,
   "metadata": {},
   "outputs": [],
   "source": [
    "# Write code in cells like this\n",
    "# ...."
   ]
  },
  {
   "cell_type": "markdown",
   "metadata": {},
   "source": [
    "Write text in cells like this ...\n"
   ]
  },
  {
   "cell_type": "markdown",
   "metadata": {},
   "source": [
    "### 2.2. Create the Training Set"
   ]
  },
  {
   "cell_type": "markdown",
   "metadata": {},
   "source": [
    "See Section **3.4 Training Set Creation and Model Learning** of the paper Martins et al (2021). \n",
    "\n",
    "Note that in this project the original static features are used thus you only need to compute the distance matrix for the sequencial patterns (which are now features), the static features are used as they are.\n",
    "\n",
    "**Perform the experiments only for binary matrices**."
   ]
  },
  {
   "cell_type": "code",
   "execution_count": 24,
   "metadata": {},
   "outputs": [],
   "source": [
    "# Write code in cells like this\n",
    "# ...."
   ]
  },
  {
   "cell_type": "markdown",
   "metadata": {},
   "source": [
    "Write text in cells like this ...\n"
   ]
  },
  {
   "cell_type": "markdown",
   "metadata": {},
   "source": [
    "#### 2.1.3. Learn the model\n",
    "\n",
    "See section **4.1 Model Evaluation** of the paper Martins et al (2021).\n",
    "\n",
    "Use only a `Random-Forest`, default parameters and present the results for **5-fold cross-validation** (mean+-std). \n",
    "\n",
    "Note that the problem is difficult so don´t expect high performance."
   ]
  },
  {
   "cell_type": "code",
   "execution_count": 27,
   "metadata": {},
   "outputs": [],
   "source": [
    "# Write code in cells like this\n",
    "# ...."
   ]
  },
  {
   "cell_type": "markdown",
   "metadata": {},
   "source": [
    "Write text in cells like this "
   ]
  }
 ],
 "metadata": {
  "kernelspec": {
   "display_name": "Python 3",
   "language": "python",
   "name": "python3"
  },
  "language_info": {
   "codemirror_mode": {
    "name": "ipython",
    "version": 3
   },
   "file_extension": ".py",
   "mimetype": "text/x-python",
   "name": "python",
   "nbconvert_exporter": "python",
   "pygments_lexer": "ipython3",
   "version": "3.12.10"
  }
 },
 "nbformat": 4,
 "nbformat_minor": 4
}
